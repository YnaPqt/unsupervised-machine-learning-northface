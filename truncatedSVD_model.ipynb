{
  "nbformat": 4,
  "nbformat_minor": 0,
  "metadata": {
    "colab": {
      "provenance": [],
      "authorship_tag": "ABX9TyOpRdAWFCAw0tsMn4qGC4ML"
    },
    "kernelspec": {
      "name": "python3",
      "display_name": "Python 3"
    },
    "language_info": {
      "name": "python"
    }
  },
  "cells": [
    {
      "cell_type": "markdown",
      "source": [
        "#**Topic modeling with truncatedSVD model**"
      ],
      "metadata": {
        "id": "L4YtV0lUtpn3"
      }
    },
    {
      "cell_type": "markdown",
      "source": [
        "**Import libraries**"
      ],
      "metadata": {
        "id": "qQf7icjft1OO"
      }
    },
    {
      "cell_type": "code",
      "source": [
        "import pandas as pd\n",
        "import numpy as np\n",
        "import matplotlib.pyplot as plt\n",
        "import html\n",
        "import spacy\n",
        "from spacy.lang.en.stop_words import STOP_WORDS\n",
        "from sklearn.decomposition import TruncatedSVD\n",
        "from wordcloud import WordCloud\n",
        "from sklearn.feature_extraction.text import TfidfVectorizer\n",
        "from sklearn.metrics import explained_variance_score"
      ],
      "metadata": {
        "id": "MhnomEXTtXt6"
      },
      "execution_count": null,
      "outputs": []
    },
    {
      "cell_type": "markdown",
      "source": [
        "**Load dataset**"
      ],
      "metadata": {
        "id": "3mkIGhaHt9aN"
      }
    },
    {
      "cell_type": "code",
      "source": [
        "# Load dataset\n",
        "df = pd.read_csv(\"/content/sample-data.csv\")"
      ],
      "metadata": {
        "id": "mAntRZsLutTG"
      },
      "execution_count": null,
      "outputs": []
    },
    {
      "cell_type": "code",
      "source": [
        "# Load SpaCy model\n",
        "nlp = spacy.load(\"en_core_web_sm\")"
      ],
      "metadata": {
        "id": "HyhlnJh4wQVG"
      },
      "execution_count": null,
      "outputs": []
    },
    {
      "cell_type": "markdown",
      "source": [
        "**Text Preprocessing**"
      ],
      "metadata": {
        "id": "L8F7WC7guyLg"
      }
    },
    {
      "cell_type": "code",
      "source": [
        "# Remove special characters\n",
        "df[\"clean_description\"] = df[\"description\"].astype(str).apply(lambda x: html.unescape(x))\n",
        "df[\"clean_description\"] = df[\"clean_description\"].str.replace(r\"<.*?>\", \" \", regex=True)\n",
        "df[\"clean_description\"] = df[\"clean_description\"].str.replace(r\"[^a-zA-Z0-9\\s]\", \" \", regex=True)"
      ],
      "metadata": {
        "id": "nkOpX0YQuxKa"
      },
      "execution_count": null,
      "outputs": []
    },
    {
      "cell_type": "code",
      "source": [
        "# Text preprocessing function\n",
        "def preprocess_text(text):\n",
        "    doc = nlp(text.lower())  # Convert to lowercase\n",
        "    tokens = [token.lemma_ for token in doc if token.text not in STOP_WORDS and token.is_alpha]\n",
        "    return \" \".join(tokens)\n",
        "\n",
        "# Apply preprocessing\n",
        "df[\"clean_description\"] = df[\"clean_description\"].apply(preprocess_text)"
      ],
      "metadata": {
        "id": "wH0vMi1Uuw__"
      },
      "execution_count": null,
      "outputs": []
    },
    {
      "cell_type": "markdown",
      "source": [
        "**Tokenization**"
      ],
      "metadata": {
        "id": "a5zGeXrZwaAO"
      }
    },
    {
      "cell_type": "code",
      "source": [
        "# TF-IDF Vectorization\n",
        "vectorizer = TfidfVectorizer()\n",
        "X = vectorizer.fit_transform(df[\"clean_description\"].astype(str))"
      ],
      "metadata": {
        "id": "elmpF4V1wdot"
      },
      "execution_count": null,
      "outputs": []
    },
    {
      "cell_type": "markdown",
      "source": [
        "###**LSA (Latent Semantic Analysis) using TruncatedSVD Model**"
      ],
      "metadata": {
        "id": "FpODcfq4wgAf"
      }
    },
    {
      "cell_type": "code",
      "source": [
        "# Determine optimal number of topics in range 10-20\n",
        "best_n_topics = 10\n",
        "best_score = 0\n",
        "for n in range(10, 21):\n",
        "    svd = TruncatedSVD(n_components=n, random_state=42)\n",
        "    transformed_X = svd.fit_transform(X)\n",
        "    score = explained_variance_score(X.toarray(), svd.inverse_transform(transformed_X))\n",
        "    if score > best_score:\n",
        "        best_n_topics = n\n",
        "        best_score = score\n",
        "\n",
        "print(f\"Optimal number of topics: {best_n_topics}\")"
      ],
      "metadata": {
        "colab": {
          "base_uri": "https://localhost:8080/"
        },
        "id": "ud37a1THxim1",
        "outputId": "b8167699-de92-4ccc-ba65-8c5d5334c592"
      },
      "execution_count": null,
      "outputs": [
        {
          "output_type": "stream",
          "name": "stdout",
          "text": [
            "Optimal number of topics: 20\n"
          ]
        }
      ]
    },
    {
      "cell_type": "code",
      "source": [
        "# Apply LSA (Latent Semantic Analysis) using TruncatedSVD with best_n_topics\n",
        "topic_model = TruncatedSVD(n_components=best_n_topics, random_state=42)\n",
        "topic_encoded_df = topic_model.fit_transform(X)"
      ],
      "metadata": {
        "id": "MZ50O8_Fxn4i"
      },
      "execution_count": null,
      "outputs": []
    },
    {
      "cell_type": "code",
      "source": [
        "# Assign main topic to each document\n",
        "df[\"main_topic\"] = np.argmax(topic_encoded_df, axis=1)"
      ],
      "metadata": {
        "id": "sEslOOJjxr3B"
      },
      "execution_count": null,
      "outputs": []
    },
    {
      "cell_type": "code",
      "source": [
        "# Generate word clouds for each topic\n",
        "terms = vectorizer.get_feature_names_out()\n",
        "for topic_idx, topic in enumerate(topic_model.components_):\n",
        "    topic_words = \" \".join([terms[i] for i in topic.argsort()[:-20 - 1:-1]])\n",
        "    wordcloud = WordCloud(width=800, height=400, background_color='white').generate(topic_words)\n",
        "\n",
        "    plt.figure(figsize=(10, 5))\n",
        "    plt.imshow(wordcloud, interpolation=\"bilinear\")\n",
        "    plt.axis(\"off\")\n",
        "    plt.title(f\"Topic {topic_idx}\")\n",
        "    plt.show()\n",
        "\n",
        "# Save topics assignment\n",
        "df.to_csv(\"products_with_topics.csv\", index=False)\n",
        "\n",
        "print(\"Topic modeling complete. Results saved to products_with_topics.csv.\")\n"
      ],
      "metadata": {
        "id": "qLQ70BHExI4i"
      },
      "execution_count": null,
      "outputs": []
    },
    {
      "cell_type": "code",
      "source": [],
      "metadata": {
        "id": "A25Osy8PxI1y"
      },
      "execution_count": null,
      "outputs": []
    },
    {
      "cell_type": "code",
      "source": [],
      "metadata": {
        "id": "BVJ4_FjFxIy-"
      },
      "execution_count": null,
      "outputs": []
    },
    {
      "cell_type": "code",
      "source": [],
      "metadata": {
        "id": "d6KDCD55xIwD"
      },
      "execution_count": null,
      "outputs": []
    },
    {
      "cell_type": "code",
      "source": [],
      "metadata": {
        "id": "8wDhonnhxItE"
      },
      "execution_count": null,
      "outputs": []
    },
    {
      "cell_type": "code",
      "source": [],
      "metadata": {
        "id": "ETySZLlkxIp9"
      },
      "execution_count": null,
      "outputs": []
    },
    {
      "cell_type": "code",
      "source": [],
      "metadata": {
        "id": "BH4mLzQuxIma"
      },
      "execution_count": null,
      "outputs": []
    },
    {
      "cell_type": "code",
      "source": [],
      "metadata": {
        "id": "_wIWXQIzxIjN"
      },
      "execution_count": null,
      "outputs": []
    },
    {
      "cell_type": "code",
      "source": [],
      "metadata": {
        "id": "Wm8ASE-XxIZk"
      },
      "execution_count": null,
      "outputs": []
    },
    {
      "cell_type": "code",
      "source": [
        "# Apply LSA (Latent Semantic Analysis) using TruncatedSVD\n",
        "n_topics = 15  # Fixed in the range of 10-20\n",
        "topic_model = TruncatedSVD(n_components=n_topics, random_state=42)\n",
        "topic_encoded_df = topic_model.fit_transform(X)"
      ],
      "metadata": {
        "id": "NCoVNeJCwmor"
      },
      "execution_count": null,
      "outputs": []
    },
    {
      "cell_type": "code",
      "source": [
        "\n",
        "# Assign main topic to each document\n",
        "df[\"main_topic\"] = np.argmax(topic_encoded_df, axis=1)\n",
        "\n",
        "# Generate word clouds for each topic\n",
        "terms = vectorizer.get_feature_names_out()\n",
        "for topic_idx, topic in enumerate(topic_model.components_):\n",
        "    topic_words = \" \".join([terms[i] for i in topic.argsort()[:-20 - 1:-1]])\n",
        "    wordcloud = WordCloud(width=800, height=400, background_color='white').generate(topic_words)\n",
        "\n",
        "    plt.figure(figsize=(10, 5))\n",
        "    plt.imshow(wordcloud, interpolation=\"bilinear\")\n",
        "    plt.axis(\"off\")\n",
        "    plt.title(f\"Topic {topic_idx}\")\n",
        "    plt.show()\n",
        "\n",
        "# Save topics assignment\n",
        "df.to_csv(\"products_with_topics.csv\", index=False)\n",
        "\n",
        "print(\"Topic modeling complete. Results saved to products_with_topics.csv.\")\n"
      ],
      "metadata": {
        "id": "p0zQ81lQuiw6"
      },
      "execution_count": null,
      "outputs": []
    },
    {
      "cell_type": "code",
      "source": [],
      "metadata": {
        "id": "PkeTEFASuiuS"
      },
      "execution_count": null,
      "outputs": []
    },
    {
      "cell_type": "code",
      "source": [],
      "metadata": {
        "id": "GI_YOd4Buiqv"
      },
      "execution_count": null,
      "outputs": []
    },
    {
      "cell_type": "code",
      "source": [],
      "metadata": {
        "id": "b9IcfJaSuinn"
      },
      "execution_count": null,
      "outputs": []
    },
    {
      "cell_type": "code",
      "source": [],
      "metadata": {
        "id": "V6UfHJFDuih3"
      },
      "execution_count": null,
      "outputs": []
    }
  ]
}